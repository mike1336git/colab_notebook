{
  "nbformat": 4,
  "nbformat_minor": 0,
  "metadata": {
    "colab": {
      "provenance": [],
      "include_colab_link": true
    },
    "kernelspec": {
      "name": "python3",
      "display_name": "Python 3"
    },
    "language_info": {
      "name": "python"
    }
  },
  "cells": [
    {
      "cell_type": "markdown",
      "metadata": {
        "id": "view-in-github",
        "colab_type": "text"
      },
      "source": [
        "<a href=\"https://colab.research.google.com/github/mike1336git/colab_notebook/blob/main/python_primer_1.ipynb\" target=\"_parent\"><img src=\"https://colab.research.google.com/assets/colab-badge.svg\" alt=\"Open In Colab\"/></a>"
      ]
    },
    {
      "cell_type": "markdown",
      "source": [
        "## environment of Python3 Google Compute Engine"
      ],
      "metadata": {
        "id": "F1ldWi01d6Sv"
      }
    },
    {
      "cell_type": "code",
      "execution_count": null,
      "metadata": {
        "colab": {
          "base_uri": "https://localhost:8080/"
        },
        "id": "cOs51QBlcf1X",
        "outputId": "dea8c055-912c-4552-eb47-46063871ecfb"
      },
      "outputs": [
        {
          "output_type": "stream",
          "name": "stdout",
          "text": [
            "Ubuntu 22.04.2 LTS \\n \\l\n",
            "\n"
          ]
        }
      ],
      "source": [
        "! cat /etc/issue"
      ]
    },
    {
      "cell_type": "code",
      "source": [
        "! ls -al"
      ],
      "metadata": {
        "colab": {
          "base_uri": "https://localhost:8080/"
        },
        "id": "6JNWOmXtctt7",
        "outputId": "c5a10483-a377-4274-86be-2ead76fe2a34"
      },
      "execution_count": null,
      "outputs": [
        {
          "output_type": "stream",
          "name": "stdout",
          "text": [
            "total 16\n",
            "drwxr-xr-x 1 root root 4096 Aug 24 21:25 .\n",
            "drwxr-xr-x 1 root root 4096 Aug 26 01:24 ..\n",
            "drwxr-xr-x 4 root root 4096 Aug 24 21:24 .config\n",
            "drwxr-xr-x 1 root root 4096 Aug 24 21:25 sample_data\n"
          ]
        }
      ]
    },
    {
      "cell_type": "code",
      "source": [
        "! python --version"
      ],
      "metadata": {
        "colab": {
          "base_uri": "https://localhost:8080/"
        },
        "id": "7xj9YTGwc3A0",
        "outputId": "4f2c9cd0-9d77-4c83-d5a7-bb4851f719cd"
      },
      "execution_count": null,
      "outputs": [
        {
          "output_type": "stream",
          "name": "stdout",
          "text": [
            "Python 3.10.12\n"
          ]
        }
      ]
    },
    {
      "cell_type": "code",
      "source": [
        "! pip list"
      ],
      "metadata": {
        "id": "BMEo4mVrdV37"
      },
      "execution_count": null,
      "outputs": []
    },
    {
      "cell_type": "markdown",
      "source": [
        "## list\n",
        "\n"
      ],
      "metadata": {
        "id": "Y5hzHjUieqyq"
      }
    },
    {
      "cell_type": "markdown",
      "source": [
        "link\n",
        "\n",
        "- document:\n",
        " - https://docs.python.org/3/tutorial/introduction.html#lists\n",
        "\n",
        " - https://docs.python.org/3/tutorial/datastructures.html#more-on-lists\n",
        "\n",
        "- W3C: https://www.w3schools.com/python/python_lists.asp\n",
        "\n",
        "- ipynb: https://utokyo-ipp.github.io/2/2-2.html"
      ],
      "metadata": {
        "id": "H1p3aGUMnG2G"
      }
    },
    {
      "cell_type": "code",
      "source": [
        "# initialize list\n",
        "a = []\n",
        "b = [ 2, 3, 5, 7, 11, 13, 17, 19 ]\n",
        "c = [ 0, 'abc', 8, [ 'a', 'b' ], b ]\n",
        "d = [ x*2 for x in range(10) ]\n",
        "e = list(range(5))\n",
        "f = list('python3')\n",
        "g = [[x*y for x in range(1,5)] for y in range(1,6)]\n",
        "\n",
        "\n",
        "print( 'a=', a )\n",
        "print( 'b=', b )\n",
        "print( 'c=', c )\n",
        "print( 'd=', d )\n",
        "print( 'e=', e )\n",
        "print( 'f=', f )\n",
        "print( 'g=', g )"
      ],
      "metadata": {
        "colab": {
          "base_uri": "https://localhost:8080/"
        },
        "id": "c14GYacJe75I",
        "outputId": "323a0e31-979f-479e-a952-ca22dd2f73b0"
      },
      "execution_count": null,
      "outputs": [
        {
          "output_type": "stream",
          "name": "stdout",
          "text": [
            "a= []\n",
            "b= [2, 3, 5, 7, 11, 13, 17, 19]\n",
            "c= [0, 'abc', 8, ['a', 'b'], [2, 3, 5, 7, 11, 13, 17, 19]]\n",
            "d= [0, 2, 4, 6, 8, 10, 12, 14, 16, 18]\n",
            "e= [0, 1, 2, 3, 4]\n",
            "f= ['p', 'y', 't', 'h', 'o', 'n', '3']\n",
            "g= [[1, 2, 3, 4], [2, 4, 6, 8], [3, 6, 9, 12], [4, 8, 12, 16], [5, 10, 15, 20]]\n"
          ]
        }
      ]
    },
    {
      "cell_type": "code",
      "source": [
        "# list access\n",
        "# input forms https://colab.research.google.com/notebooks/forms.ipynb\n",
        "\n",
        "h =  [ 2, 3, 5, 7, 11, 13, 17, 19 ]\n",
        "i = 3 # @param {type:\"integer\"}\n",
        "print( h[i] )"
      ],
      "metadata": {
        "colab": {
          "base_uri": "https://localhost:8080/"
        },
        "id": "pLy3CY2Ckdvf",
        "outputId": "94e48adc-3662-4f67-8e96-9bab5e5ccb8b"
      },
      "execution_count": null,
      "outputs": [
        {
          "output_type": "stream",
          "name": "stdout",
          "text": [
            "7\n"
          ]
        }
      ]
    },
    {
      "cell_type": "code",
      "source": [
        "# list slice\n",
        "print( h[2:5] )"
      ],
      "metadata": {
        "colab": {
          "base_uri": "https://localhost:8080/"
        },
        "id": "_ek0GpkNqcww",
        "outputId": "b91644f3-ef0e-4e5b-a68a-235ea69ff5fe"
      },
      "execution_count": null,
      "outputs": [
        {
          "output_type": "stream",
          "name": "stdout",
          "text": [
            "[5, 7, 11]\n"
          ]
        }
      ]
    },
    {
      "cell_type": "code",
      "source": [],
      "metadata": {
        "id": "JwV6f2dOtSpz"
      },
      "execution_count": null,
      "outputs": []
    },
    {
      "cell_type": "markdown",
      "source": [
        "## speed test"
      ],
      "metadata": {
        "id": "yD2uJ4CqyEuf"
      }
    },
    {
      "cell_type": "code",
      "source": [
        "# @title python speed test ( 10000000 loop time )\n",
        "\n",
        "import time\n",
        "\n",
        "t0 = time.time()\n",
        "# print(t0)\n",
        "\n",
        "s = 0\n",
        "t1 = time.time()\n",
        "\n",
        "for i in range(10000001):\n",
        "  s = s + i\n",
        "\n",
        "t2 = time.time()\n",
        "print ('loop time(s) =',t2-t1, ', s=', s )"
      ],
      "metadata": {
        "colab": {
          "base_uri": "https://localhost:8080/"
        },
        "id": "t_Kg8n0qx-2_",
        "outputId": "ec7a7cb2-bf1f-48bc-9f70-8088b7eccbfd"
      },
      "execution_count": null,
      "outputs": [
        {
          "output_type": "stream",
          "name": "stdout",
          "text": [
            "loop time(s) = 1.3734517097473145 , s= 50000005000000\n"
          ]
        }
      ]
    },
    {
      "cell_type": "code",
      "source": [
        "#@title js speed test ( 10000000 loop time )\n",
        "\n",
        "%%html\n",
        "\n",
        "<script type=\"text/javascript\">\n",
        "\n",
        "function speedTest() {\n",
        "  const nn = 10000001;\n",
        "\t// int add loop\n",
        "  const t0 = performance.now();\n",
        "  let s = 0;\n",
        "  for (i=1; i<nn; i++) {\n",
        "    s = s + i;\n",
        "  }\n",
        "  const t1 = performance.now();\n",
        "  const addTime = t1 - t0;\n",
        "\n",
        "  document.getElementById(\"msg\").innerHTML =\n",
        "\t\t\"\"+(nn-1)+\"times loop : time(ms):\"+addTime.toFixed(2)+\"  sum =\"+s\n",
        "}\n",
        "\n",
        "speedTest();\n",
        "\n",
        "</script>\n",
        "\n",
        "<div id=\"msg\"></div>\n"
      ],
      "metadata": {
        "id": "LXMUaw3nzLL6"
      },
      "execution_count": null,
      "outputs": []
    },
    {
      "cell_type": "markdown",
      "source": [
        "## random"
      ],
      "metadata": {
        "id": "xqbSJ-uwojDb"
      }
    },
    {
      "cell_type": "markdown",
      "source": [
        "link\n",
        "- document: https://docs.python.org/3/library/random.html\n",
        "- W3C: https://www.w3schools.com/python/module_random.asp"
      ],
      "metadata": {
        "id": "q6Sp1NYXoqFk"
      }
    },
    {
      "cell_type": "code",
      "source": [
        "# @title random\n",
        "\n",
        "import random\n",
        "\n",
        "# random.random() : uniform random number in range [0, 1)\n",
        "rd5 = [ random.random() for i in range(5) ]\n",
        "print( 'rd5 =',rd5 )\n",
        "\n",
        "# random.randint(0,9) : uniform random integer in 0,1,2,..,9\n",
        "ird20 = [ random.randint(0,9) for i in range(20) ]\n",
        "print( 'ird20 =', ird20 )\n",
        "\n",
        "# random.gauss(mu=0.0, sigma=1.0) : normal random mue = 0.0, sigma = 1.0\n",
        "rg5 = [ random.gauss(0,1.0) for i in range(5) ]\n",
        "print( 'rg5 =',rg5 )\n"
      ],
      "metadata": {
        "colab": {
          "base_uri": "https://localhost:8080/"
        },
        "id": "K6I9zx8LpV-8",
        "outputId": "35ea2d01-796d-473e-cc1e-561751b2ffe4"
      },
      "execution_count": null,
      "outputs": [
        {
          "output_type": "stream",
          "name": "stdout",
          "text": [
            "rd5 = [0.13217111615565202, 0.014260721583001401, 0.22272223150351322, 0.0006739559362143321, 0.2244405210981103]\n",
            "ird20 = [3, 8, 9, 5, 1, 4, 4, 1, 6, 2, 2, 4, 7, 9, 7, 0, 4, 8, 9, 2]\n",
            "rg5 = [0.5891230232714398, 0.03686183426518122, 1.8254518440689897, -0.876021697803402, 0.47564026521894964]\n"
          ]
        }
      ]
    },
    {
      "cell_type": "code",
      "source": [
        "s = 0.0\n",
        "n = 1000000\n",
        "for i in range(n):\n",
        "  s += random.random()\n",
        "\n",
        "print('sum/n =', s/n)\n"
      ],
      "metadata": {
        "colab": {
          "base_uri": "https://localhost:8080/"
        },
        "id": "MH9CaSGOvznK",
        "outputId": "7c599ef6-770b-4c4b-d3ea-78a18179611e"
      },
      "execution_count": null,
      "outputs": [
        {
          "output_type": "stream",
          "name": "stdout",
          "text": [
            "sum/n = 0.4998157167520505\n"
          ]
        }
      ]
    },
    {
      "cell_type": "code",
      "source": [
        "s = 0\n",
        "min = 1.0\n",
        "max = -1.0\n",
        "n = 1000\n",
        "\n",
        "for i in range(n):\n",
        "  r = random.random()\n",
        "  s += r\n",
        "  if r<min:\n",
        "    min = r\n",
        "  if r>max:\n",
        "    max = r\n",
        "\n",
        "print('n =',n, ', mean =', s/n, ', max =', max, ', min =', min )"
      ],
      "metadata": {
        "colab": {
          "base_uri": "https://localhost:8080/"
        },
        "id": "ppKF6inhw8sh",
        "outputId": "50048fb0-683e-48f5-9539-5f2fa9ddaaa0"
      },
      "execution_count": null,
      "outputs": [
        {
          "output_type": "stream",
          "name": "stdout",
          "text": [
            "n = 1000 , mean = 0.4944922233060325 , max = 0.9994360839030512 , min = 0.00022494389384120073\n"
          ]
        }
      ]
    }
  ]
}