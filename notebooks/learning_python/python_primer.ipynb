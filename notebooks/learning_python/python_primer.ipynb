{
  "nbformat": 4,
  "nbformat_minor": 0,
  "metadata": {
    "colab": {
      "provenance": []
    },
    "kernelspec": {
      "name": "python3",
      "display_name": "Python 3"
    },
    "language_info": {
      "name": "python"
    }
  },
  "cells": [
    {
      "cell_type": "markdown",
      "source": [
        "## environment of Python3 Google Compute Engine"
      ],
      "metadata": {
        "id": "F1ldWi01d6Sv"
      }
    },
    {
      "cell_type": "code",
      "execution_count": null,
      "metadata": {
        "colab": {
          "base_uri": "https://localhost:8080/"
        },
        "id": "cOs51QBlcf1X",
        "outputId": "dea8c055-912c-4552-eb47-46063871ecfb"
      },
      "outputs": [
        {
          "output_type": "stream",
          "name": "stdout",
          "text": [
            "Ubuntu 22.04.2 LTS \\n \\l\n",
            "\n"
          ]
        }
      ],
      "source": [
        "! cat /etc/issue"
      ]
    },
    {
      "cell_type": "code",
      "source": [
        "! ls -al"
      ],
      "metadata": {
        "colab": {
          "base_uri": "https://localhost:8080/"
        },
        "id": "6JNWOmXtctt7",
        "outputId": "c5a10483-a377-4274-86be-2ead76fe2a34"
      },
      "execution_count": null,
      "outputs": [
        {
          "output_type": "stream",
          "name": "stdout",
          "text": [
            "total 16\n",
            "drwxr-xr-x 1 root root 4096 Aug 24 21:25 .\n",
            "drwxr-xr-x 1 root root 4096 Aug 26 01:24 ..\n",
            "drwxr-xr-x 4 root root 4096 Aug 24 21:24 .config\n",
            "drwxr-xr-x 1 root root 4096 Aug 24 21:25 sample_data\n"
          ]
        }
      ]
    },
    {
      "cell_type": "code",
      "source": [
        "! python --version"
      ],
      "metadata": {
        "colab": {
          "base_uri": "https://localhost:8080/"
        },
        "id": "7xj9YTGwc3A0",
        "outputId": "4f2c9cd0-9d77-4c83-d5a7-bb4851f719cd"
      },
      "execution_count": null,
      "outputs": [
        {
          "output_type": "stream",
          "name": "stdout",
          "text": [
            "Python 3.10.12\n"
          ]
        }
      ]
    },
    {
      "cell_type": "code",
      "source": [
        "! pip list"
      ],
      "metadata": {
        "id": "BMEo4mVrdV37"
      },
      "execution_count": null,
      "outputs": []
    },
    {
      "cell_type": "markdown",
      "source": [
        "## list"
      ],
      "metadata": {
        "id": "Y5hzHjUieqyq"
      }
    },
    {
      "cell_type": "code",
      "source": [
        "# initialize list\n",
        "a = []\n",
        "b = [ 2, 3, 5, 7, 11, 13, 17, 19 ]\n",
        "c = [ 0, 'abc', 8, [ 'a', 'b' ], b ]\n",
        "d = [ x*2 for x in range(10) ]\n",
        "e = list(range(5))\n",
        "f = list('python3')\n",
        "g = [[x*y for x in range(1,5)] for y in range(1,6)]\n",
        "\n",
        "\n",
        "print( 'a=', a )\n",
        "print( 'b=', b )\n",
        "print( 'c=', c )\n",
        "print( 'd=', d )\n",
        "print( 'e=', e )\n",
        "print( 'f=', f )\n",
        "print( 'g=', g )"
      ],
      "metadata": {
        "colab": {
          "base_uri": "https://localhost:8080/"
        },
        "id": "c14GYacJe75I",
        "outputId": "323a0e31-979f-479e-a952-ca22dd2f73b0"
      },
      "execution_count": null,
      "outputs": [
        {
          "output_type": "stream",
          "name": "stdout",
          "text": [
            "a= []\n",
            "b= [2, 3, 5, 7, 11, 13, 17, 19]\n",
            "c= [0, 'abc', 8, ['a', 'b'], [2, 3, 5, 7, 11, 13, 17, 19]]\n",
            "d= [0, 2, 4, 6, 8, 10, 12, 14, 16, 18]\n",
            "e= [0, 1, 2, 3, 4]\n",
            "f= ['p', 'y', 't', 'h', 'o', 'n', '3']\n",
            "g= [[1, 2, 3, 4], [2, 4, 6, 8], [3, 6, 9, 12], [4, 8, 12, 16], [5, 10, 15, 20]]\n"
          ]
        }
      ]
    },
    {
      "cell_type": "code",
      "source": [
        "# list access\n",
        "# input forms https://colab.research.google.com/notebooks/forms.ipynb\n",
        "\n",
        "h =  [ 2, 3, 5, 7, 11, 13, 17, 19 ]\n",
        "i = 3 # @param {type:\"integer\"}\n",
        "print( h[i] )"
      ],
      "metadata": {
        "colab": {
          "base_uri": "https://localhost:8080/"
        },
        "id": "pLy3CY2Ckdvf",
        "outputId": "94e48adc-3662-4f67-8e96-9bab5e5ccb8b"
      },
      "execution_count": 39,
      "outputs": [
        {
          "output_type": "stream",
          "name": "stdout",
          "text": [
            "7\n"
          ]
        }
      ]
    },
    {
      "cell_type": "code",
      "source": [
        "# list slice\n",
        "print( h[2:5] )"
      ],
      "metadata": {
        "colab": {
          "base_uri": "https://localhost:8080/"
        },
        "id": "_ek0GpkNqcww",
        "outputId": "b91644f3-ef0e-4e5b-a68a-235ea69ff5fe"
      },
      "execution_count": 40,
      "outputs": [
        {
          "output_type": "stream",
          "name": "stdout",
          "text": [
            "[5, 7, 11]\n"
          ]
        }
      ]
    },
    {
      "cell_type": "code",
      "source": [],
      "metadata": {
        "id": "JwV6f2dOtSpz"
      },
      "execution_count": null,
      "outputs": []
    },
    {
      "cell_type": "markdown",
      "source": [
        "## speed test"
      ],
      "metadata": {
        "id": "yD2uJ4CqyEuf"
      }
    },
    {
      "cell_type": "code",
      "source": [
        "# @title python speed test ( 10000000 loop time )\n",
        "\n",
        "import time\n",
        "\n",
        "t0 = time.time()\n",
        "# print(t0)\n",
        "\n",
        "s = 0\n",
        "t1 = time.time()\n",
        "\n",
        "for i in range(10000001):\n",
        "  s = s + i\n",
        "\n",
        "t2 = time.time()\n",
        "print ('loop time(s) =',t2-t1, ', s=', s )"
      ],
      "metadata": {
        "colab": {
          "base_uri": "https://localhost:8080/"
        },
        "id": "t_Kg8n0qx-2_",
        "outputId": "ec7a7cb2-bf1f-48bc-9f70-8088b7eccbfd"
      },
      "execution_count": 34,
      "outputs": [
        {
          "output_type": "stream",
          "name": "stdout",
          "text": [
            "loop time(s) = 1.3734517097473145 , s= 50000005000000\n"
          ]
        }
      ]
    },
    {
      "cell_type": "code",
      "source": [
        "#@title js speed test ( 10000000 loop time )\n",
        "\n",
        "%%html\n",
        "\n",
        "<script type=\"text/javascript\">\n",
        "\n",
        "function speedTest() {\n",
        "  const nn = 10000001;\n",
        "\t// int add loop\n",
        "  const t0 = performance.now();\n",
        "  let s = 0;\n",
        "  for (i=1; i<nn; i++) {\n",
        "    s = s + i;\n",
        "  }\n",
        "  const t1 = performance.now();\n",
        "  const addTime = t1 - t0;\n",
        "\n",
        "  document.getElementById(\"msg\").innerHTML =\n",
        "\t\t\"\"+(nn-1)+\"times loop : time(ms):\"+addTime.toFixed(2)+\"  sum =\"+s\n",
        "}\n",
        "\n",
        "speedTest();\n",
        "\n",
        "</script>\n",
        "\n",
        "<div id=\"msg\"></div>\n"
      ],
      "metadata": {
        "id": "LXMUaw3nzLL6"
      },
      "execution_count": null,
      "outputs": []
    }
  ]
}